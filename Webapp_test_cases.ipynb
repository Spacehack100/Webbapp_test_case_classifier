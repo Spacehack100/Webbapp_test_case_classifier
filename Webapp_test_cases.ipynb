{
 "cells": [
  {
   "cell_type": "markdown",
   "id": "e08d2c9b",
   "metadata": {},
   "source": [
    "# Test case classification"
   ]
  },
  {
   "cell_type": "code",
   "execution_count": 6,
   "id": "2c7ab818",
   "metadata": {},
   "outputs": [
    {
     "name": "stdout",
     "output_type": "stream",
     "text": [
      "Defaulting to user installation because normal site-packages is not writeable\n",
      "Requirement already satisfied: voila in c:\\users\\jensk\\appdata\\roaming\\python\\python39\\site-packages (0.4.0)\n",
      "Requirement already satisfied: jupyter-client<=7.4.1,>=6.1.3 in c:\\users\\jensk\\appdata\\roaming\\python\\python39\\site-packages (from voila) (7.4.1)\n",
      "Requirement already satisfied: jupyterlab-server<3,>=2.3.0 in c:\\users\\jensk\\appdata\\roaming\\python\\python39\\site-packages (from voila) (2.18.0)\n",
      "Requirement already satisfied: jupyter-server<2.0.0,>=1.18 in c:\\users\\jensk\\appdata\\roaming\\python\\python39\\site-packages (from voila) (1.23.4)\n",
      "Requirement already satisfied: jupyter-core>=4.11.0 in c:\\programdata\\miniconda3\\lib\\site-packages (from voila) (4.11.2)\n",
      "Requirement already satisfied: nbclient<0.8,>=0.4.0 in c:\\programdata\\miniconda3\\lib\\site-packages (from voila) (0.5.13)\n",
      "Requirement already satisfied: websockets>=9.0 in c:\\users\\jensk\\appdata\\roaming\\python\\python39\\site-packages (from voila) (10.4)\n",
      "Requirement already satisfied: nbconvert<8,>=6.4.5 in c:\\programdata\\miniconda3\\lib\\site-packages (from voila) (6.5.4)\n",
      "Requirement already satisfied: traitlets<6,>=5.0.3 in c:\\programdata\\miniconda3\\lib\\site-packages (from voila) (5.1.1)\n",
      "Requirement already satisfied: nest-asyncio>=1.5.4 in c:\\programdata\\miniconda3\\lib\\site-packages (from jupyter-client<=7.4.1,>=6.1.3->voila) (1.5.5)\n",
      "Requirement already satisfied: entrypoints in c:\\programdata\\miniconda3\\lib\\site-packages (from jupyter-client<=7.4.1,>=6.1.3->voila) (0.4)\n",
      "Requirement already satisfied: tornado>=6.2 in c:\\programdata\\miniconda3\\lib\\site-packages (from jupyter-client<=7.4.1,>=6.1.3->voila) (6.2)\n",
      "Requirement already satisfied: pyzmq>=23.0 in c:\\programdata\\miniconda3\\lib\\site-packages (from jupyter-client<=7.4.1,>=6.1.3->voila) (23.2.0)\n",
      "Requirement already satisfied: python-dateutil>=2.8.2 in c:\\programdata\\miniconda3\\lib\\site-packages (from jupyter-client<=7.4.1,>=6.1.3->voila) (2.8.2)\n",
      "Requirement already satisfied: pywin32>=1.0 in c:\\programdata\\miniconda3\\lib\\site-packages (from jupyter-core>=4.11.0->voila) (305.1)\n",
      "Requirement already satisfied: anyio<4,>=3.1.0 in c:\\programdata\\miniconda3\\lib\\site-packages (from jupyter-server<2.0.0,>=1.18->voila) (3.5.0)\n",
      "Requirement already satisfied: packaging in c:\\programdata\\miniconda3\\lib\\site-packages (from jupyter-server<2.0.0,>=1.18->voila) (21.3)\n",
      "Requirement already satisfied: nbformat>=5.2.0 in c:\\programdata\\miniconda3\\lib\\site-packages (from jupyter-server<2.0.0,>=1.18->voila) (5.7.0)\n",
      "Requirement already satisfied: terminado>=0.8.3 in c:\\programdata\\miniconda3\\lib\\site-packages (from jupyter-server<2.0.0,>=1.18->voila) (0.13.1)\n",
      "Requirement already satisfied: argon2-cffi in c:\\programdata\\miniconda3\\lib\\site-packages (from jupyter-server<2.0.0,>=1.18->voila) (21.3.0)\n",
      "Requirement already satisfied: websocket-client in c:\\programdata\\miniconda3\\lib\\site-packages (from jupyter-server<2.0.0,>=1.18->voila) (0.58.0)\n",
      "Requirement already satisfied: pywinpty in c:\\programdata\\miniconda3\\lib\\site-packages (from jupyter-server<2.0.0,>=1.18->voila) (2.0.2)\n",
      "Requirement already satisfied: Send2Trash in c:\\programdata\\miniconda3\\lib\\site-packages (from jupyter-server<2.0.0,>=1.18->voila) (1.8.0)\n",
      "Requirement already satisfied: jinja2 in c:\\programdata\\miniconda3\\lib\\site-packages (from jupyter-server<2.0.0,>=1.18->voila) (3.1.2)\n",
      "Requirement already satisfied: prometheus-client in c:\\programdata\\miniconda3\\lib\\site-packages (from jupyter-server<2.0.0,>=1.18->voila) (0.14.1)\n",
      "Requirement already satisfied: jsonschema>=4.17.3 in c:\\users\\jensk\\appdata\\roaming\\python\\python39\\site-packages (from jupyterlab-server<3,>=2.3.0->voila) (4.17.3)\n",
      "Requirement already satisfied: babel>=2.10 in c:\\users\\jensk\\appdata\\roaming\\python\\python39\\site-packages (from jupyterlab-server<3,>=2.3.0->voila) (2.11.0)\n",
      "Requirement already satisfied: requests>=2.28 in c:\\programdata\\miniconda3\\lib\\site-packages (from jupyterlab-server<3,>=2.3.0->voila) (2.28.1)\n",
      "Requirement already satisfied: importlib-metadata>=4.8.3 in c:\\users\\jensk\\appdata\\roaming\\python\\python39\\site-packages (from jupyterlab-server<3,>=2.3.0->voila) (6.0.0)\n",
      "Requirement already satisfied: json5>=0.9.0 in c:\\users\\jensk\\appdata\\roaming\\python\\python39\\site-packages (from jupyterlab-server<3,>=2.3.0->voila) (0.9.11)\n",
      "Requirement already satisfied: lxml in c:\\programdata\\miniconda3\\lib\\site-packages (from nbconvert<8,>=6.4.5->voila) (4.9.1)\n",
      "Requirement already satisfied: bleach in c:\\programdata\\miniconda3\\lib\\site-packages (from nbconvert<8,>=6.4.5->voila) (4.1.0)\n",
      "Requirement already satisfied: defusedxml in c:\\programdata\\miniconda3\\lib\\site-packages (from nbconvert<8,>=6.4.5->voila) (0.7.1)\n",
      "Requirement already satisfied: beautifulsoup4 in c:\\programdata\\miniconda3\\lib\\site-packages (from nbconvert<8,>=6.4.5->voila) (4.11.1)\n",
      "Requirement already satisfied: pygments>=2.4.1 in c:\\programdata\\miniconda3\\lib\\site-packages (from nbconvert<8,>=6.4.5->voila) (2.11.2)\n",
      "Requirement already satisfied: MarkupSafe>=2.0 in c:\\programdata\\miniconda3\\lib\\site-packages (from nbconvert<8,>=6.4.5->voila) (2.1.1)\n",
      "Requirement already satisfied: tinycss2 in c:\\programdata\\miniconda3\\lib\\site-packages (from nbconvert<8,>=6.4.5->voila) (1.2.1)\n",
      "Requirement already satisfied: jupyterlab-pygments in c:\\programdata\\miniconda3\\lib\\site-packages (from nbconvert<8,>=6.4.5->voila) (0.1.2)\n",
      "Requirement already satisfied: pandocfilters>=1.4.1 in c:\\programdata\\miniconda3\\lib\\site-packages (from nbconvert<8,>=6.4.5->voila) (1.5.0)\n",
      "Requirement already satisfied: mistune<2,>=0.8.1 in c:\\programdata\\miniconda3\\lib\\site-packages (from nbconvert<8,>=6.4.5->voila) (0.8.4)\n",
      "Requirement already satisfied: sniffio>=1.1 in c:\\programdata\\miniconda3\\lib\\site-packages (from anyio<4,>=3.1.0->jupyter-server<2.0.0,>=1.18->voila) (1.2.0)\n",
      "Requirement already satisfied: idna>=2.8 in c:\\programdata\\miniconda3\\lib\\site-packages (from anyio<4,>=3.1.0->jupyter-server<2.0.0,>=1.18->voila) (3.4)\n",
      "Requirement already satisfied: pytz>=2015.7 in c:\\programdata\\miniconda3\\lib\\site-packages (from babel>=2.10->jupyterlab-server<3,>=2.3.0->voila) (2022.1)\n",
      "Requirement already satisfied: zipp>=0.5 in c:\\users\\jensk\\appdata\\roaming\\python\\python39\\site-packages (from importlib-metadata>=4.8.3->jupyterlab-server<3,>=2.3.0->voila) (3.11.0)\n",
      "Requirement already satisfied: pyrsistent!=0.17.0,!=0.17.1,!=0.17.2,>=0.14.0 in c:\\programdata\\miniconda3\\lib\\site-packages (from jsonschema>=4.17.3->jupyterlab-server<3,>=2.3.0->voila) (0.18.0)\n",
      "Requirement already satisfied: attrs>=17.4.0 in c:\\programdata\\miniconda3\\lib\\site-packages (from jsonschema>=4.17.3->jupyterlab-server<3,>=2.3.0->voila) (22.1.0)\n",
      "Requirement already satisfied: fastjsonschema in c:\\programdata\\miniconda3\\lib\\site-packages (from nbformat>=5.2.0->jupyter-server<2.0.0,>=1.18->voila) (2.16.2)\n",
      "Requirement already satisfied: pyparsing!=3.0.5,>=2.0.2 in c:\\programdata\\miniconda3\\lib\\site-packages (from packaging->jupyter-server<2.0.0,>=1.18->voila) (3.0.9)\n",
      "Requirement already satisfied: six>=1.5 in c:\\programdata\\miniconda3\\lib\\site-packages (from python-dateutil>=2.8.2->jupyter-client<=7.4.1,>=6.1.3->voila) (1.16.0)\n",
      "Requirement already satisfied: urllib3<1.27,>=1.21.1 in c:\\programdata\\miniconda3\\lib\\site-packages (from requests>=2.28->jupyterlab-server<3,>=2.3.0->voila) (1.26.12)\n",
      "Requirement already satisfied: charset-normalizer<3,>=2 in c:\\programdata\\miniconda3\\lib\\site-packages (from requests>=2.28->jupyterlab-server<3,>=2.3.0->voila) (2.0.4)\n",
      "Requirement already satisfied: certifi>=2017.4.17 in c:\\programdata\\miniconda3\\lib\\site-packages (from requests>=2.28->jupyterlab-server<3,>=2.3.0->voila) (2022.12.7)\n",
      "Requirement already satisfied: argon2-cffi-bindings in c:\\programdata\\miniconda3\\lib\\site-packages (from argon2-cffi->jupyter-server<2.0.0,>=1.18->voila) (21.2.0)\n",
      "Requirement already satisfied: soupsieve>1.2 in c:\\programdata\\miniconda3\\lib\\site-packages (from beautifulsoup4->nbconvert<8,>=6.4.5->voila) (2.3.2.post1)\n",
      "Requirement already satisfied: webencodings in c:\\programdata\\miniconda3\\lib\\site-packages (from bleach->nbconvert<8,>=6.4.5->voila) (0.5.1)\n",
      "Requirement already satisfied: cffi>=1.0.1 in c:\\programdata\\miniconda3\\lib\\site-packages (from argon2-cffi-bindings->argon2-cffi->jupyter-server<2.0.0,>=1.18->voila) (1.15.1)\n",
      "Requirement already satisfied: pycparser in c:\\programdata\\miniconda3\\lib\\site-packages (from cffi>=1.0.1->argon2-cffi-bindings->argon2-cffi->jupyter-server<2.0.0,>=1.18->voila) (2.21)\n"
     ]
    },
    {
     "name": "stdout",
     "output_type": "stream",
     "text": [
      "Libraries loaded succesfull!\n"
     ]
    },
    {
     "name": "stderr",
     "output_type": "stream",
     "text": [
      "Enabling: voila\n",
      "- Writing config: C:\\ProgramData\\Miniconda3\\etc\\jupyter\n",
      "Traceback (most recent call last):\n",
      "  File \"C:\\ProgramData\\Miniconda3\\Scripts\\jupyter-serverextension-script.py\", line 10, in <module>\n",
      "    sys.exit(main())\n",
      "  File \"C:\\ProgramData\\Miniconda3\\lib\\site-packages\\jupyter_core\\application.py\", line 269, in launch_instance\n",
      "    return super().launch_instance(argv=argv, **kwargs)\n",
      "  File \"C:\\ProgramData\\Miniconda3\\lib\\site-packages\\traitlets\\config\\application.py\", line 846, in launch_instance\n",
      "    app.start()\n",
      "  File \"C:\\ProgramData\\Miniconda3\\lib\\site-packages\\notebook\\serverextensions.py\", line 289, in start\n",
      "    super().start()\n",
      "  File \"C:\\ProgramData\\Miniconda3\\lib\\site-packages\\jupyter_core\\application.py\", line 258, in start\n",
      "    self.subapp.start()\n",
      "  File \"C:\\ProgramData\\Miniconda3\\lib\\site-packages\\notebook\\serverextensions.py\", line 210, in start\n",
      "    self.toggle_server_extension(arg)\n",
      "  File \"C:\\ProgramData\\Miniconda3\\lib\\site-packages\\notebook\\serverextensions.py\", line 181, in toggle_server_extension\n",
      "    toggle_serverextension_python(\n",
      "  File \"C:\\ProgramData\\Miniconda3\\lib\\site-packages\\notebook\\serverextensions.py\", line 71, in toggle_serverextension_python\n",
      "    cm.update(\"jupyter_notebook_config\", cfg)\n",
      "  File \"C:\\ProgramData\\Miniconda3\\lib\\site-packages\\notebook\\config_manager.py\", line 130, in update\n",
      "    self.set(section_name, data)\n",
      "  File \"C:\\ProgramData\\Miniconda3\\lib\\site-packages\\notebook\\config_manager.py\", line 119, in set\n",
      "    f = open(filename, 'w', encoding='utf-8')\n",
      "PermissionError: [Errno 13] Permission denied: 'C:\\\\ProgramData\\\\Miniconda3\\\\etc\\\\jupyter\\\\jupyter_notebook_config.json'\n"
     ]
    }
   ],
   "source": [
    "import numpy as np\n",
    "from joblib import load\n",
    "from fastai.vision.widgets import *\n",
    "!pip install voila\n",
    "!jupyter serverextension enable --sys-prefix voila\n",
    "print('Libraries loaded succesfull!')"
   ]
  },
  {
   "cell_type": "code",
   "execution_count": 7,
   "id": "7c3eb0c6",
   "metadata": {},
   "outputs": [],
   "source": [
    "classifier = load('Test_case_prioritization_model.joblib')\n",
    "input_duration = widgets.BoundedFloatText(value=0, min=0, description='Test duration (in seconds):')\n",
    "input_times_passed = widgets.BoundedIntText(value=0, min=0, description='Count times test passed:')\n",
    "input_times_failed = widgets.BoundedIntText(value=0, min=0, description='Count times test failed:')\n",
    "btn_run = widgets.Button(description='Classify')\n",
    "lbl_pred = widgets.Label()"
   ]
  },
  {
   "cell_type": "code",
   "execution_count": 8,
   "id": "dada5d23",
   "metadata": {},
   "outputs": [],
   "source": [
    "def on_classify_clicked(change):\n",
    "    result = classifier.predict(np.array([int(input_duration.value),int(input_times_passed.value),int(input_times_failed.value)]).reshape(1, -1))\n",
    "    if(result[0] == 1):\n",
    "        lbl_pred.value = f'The test will likely be succesfull'\n",
    "    if(result[0] == 0):\n",
    "        lbl_pred.value = f'The test will likely not be succesfull'\n",
    "\n",
    "btn_run.on_click(on_classify_clicked)"
   ]
  },
  {
   "cell_type": "code",
   "execution_count": 9,
   "id": "a240a33d",
   "metadata": {
    "scrolled": true
   },
   "outputs": [
    {
     "data": {
      "application/vnd.jupyter.widget-view+json": {
       "model_id": "0aee915650f2469c9c034f287a9ea7b5",
       "version_major": 2,
       "version_minor": 0
      },
      "text/plain": [
       "VBox(children=(Label(value='Fill in the test parameters'), BoundedFloatText(value=0.0, description='Test durat…"
      ]
     },
     "metadata": {},
     "output_type": "display_data"
    }
   ],
   "source": [
    "VBox([widgets.Label('Fill in the test parameters'), input_duration, input_times_passed, input_times_failed, btn_run, lbl_pred])"
   ]
  }
 ],
 "metadata": {
  "kernelspec": {
   "display_name": "Python 3 (ipykernel)",
   "language": "python",
   "name": "python3"
  },
  "language_info": {
   "codemirror_mode": {
    "name": "ipython",
    "version": 3
   },
   "file_extension": ".py",
   "mimetype": "text/x-python",
   "name": "python",
   "nbconvert_exporter": "python",
   "pygments_lexer": "ipython3",
   "version": "3.9.12"
  }
 },
 "nbformat": 4,
 "nbformat_minor": 5
}
