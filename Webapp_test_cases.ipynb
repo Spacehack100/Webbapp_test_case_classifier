{
 "cells": [
  {
   "cell_type": "code",
   "execution_count": 1,
   "id": "2c7ab818",
   "metadata": {},
   "outputs": [],
   "source": [
    "import numpy as np\n",
    "from joblib import load\n",
    "from fastai.vision.widgets import *\n",
    "!pip install voila\n",
    "!jupyter serverextension enable --sys-prefix voila "
   ]
  },
  {
   "cell_type": "code",
   "execution_count": 2,
   "id": "7c3eb0c6",
   "metadata": {},
   "outputs": [],
   "source": [
    "classifier = load('Test_case_prioritization_model.joblib')\n",
    "input_duration = widgets.BoundedFloatText(value=0, min=0, description='Test duration (in seconds):')\n",
    "input_cycle = widgets.Dropdown(options=['0', '1'],value='0',description='Select cycle:')\n",
    "input_times_passed = widgets.BoundedIntText(value=0, min=0, description='Count times test passed:')\n",
    "input_times_failed = widgets.BoundedIntText(value=0, min=0, description='Count times test failed:')\n",
    "btn_run = widgets.Button(description='Classify')\n",
    "lbl_pred = widgets.Label()"
   ]
  },
  {
   "cell_type": "code",
   "execution_count": 3,
   "id": "dada5d23",
   "metadata": {},
   "outputs": [],
   "source": [
    "def on_classify_clicked(change):\n",
    "    result = classifier.predict(np.array([int(input_duration.value),int(input_cycle.value),int(input_times_passed.value),int(input_times_failed.value)]).reshape(1, -1))\n",
    "    if(result[0] == 1):\n",
    "        lbl_pred.value = f'The test will likely be succesfull'\n",
    "    if(result[0] == 0):\n",
    "        lbl_pred.value = f'The test will likely not be succesfull'\n",
    "\n",
    "btn_run.on_click(on_classify_clicked)"
   ]
  },
  {
   "cell_type": "code",
   "execution_count": 4,
   "id": "a240a33d",
   "metadata": {
    "scrolled": true
   },
   "outputs": [
    {
     "data": {
      "application/vnd.jupyter.widget-view+json": {
       "model_id": "8267e6b2e84e4210a996f6fa0e7717ac",
       "version_major": 2,
       "version_minor": 0
      },
      "text/plain": [
       "VBox(children=(Label(value='Fill in the test parameters'), BoundedFloatText(value=0.0, description='Test durat…"
      ]
     },
     "metadata": {},
     "output_type": "display_data"
    }
   ],
   "source": [
    "VBox([widgets.Label('Fill in the test parameters'), input_duration, input_cycle, input_times_passed, input_times_failed, btn_run, lbl_pred])"
   ]
  }
 ],
 "metadata": {
  "kernelspec": {
   "display_name": "Python 3 (ipykernel)",
   "language": "python",
   "name": "python3"
  },
  "language_info": {
   "codemirror_mode": {
    "name": "ipython",
    "version": 3
   },
   "file_extension": ".py",
   "mimetype": "text/x-python",
   "name": "python",
   "nbconvert_exporter": "python",
   "pygments_lexer": "ipython3",
   "version": "3.9.12"
  }
 },
 "nbformat": 4,
 "nbformat_minor": 5
}
